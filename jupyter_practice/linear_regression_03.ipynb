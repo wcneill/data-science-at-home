{
 "cells": [
  {
   "cell_type": "markdown",
   "metadata": {},
   "source": [
    "## How good is our algorithm for this data set?\n",
    "\n",
    "Here are 4 of the main metrics of error when it comes to linear regression.:\n",
    "- __Mean Absolute Error:__ This one treats all error equally. In other words, major outlier don't have a up-scaled effect on the total error when compared to smaller error terms.\n",
    "\n",
    "### $$\\epsilon_{mae} = \\frac{1}{n}\\sum_{i=0}^n |y_i - \\hat{y_i}|$$\n",
    "\n",
    "\n",
    "- __Mean Squared Error:__ This type of error penalizes error terms by squaring them. This might result in one or two outliers in the data causing an over-estimation of error in the model. On the other hand, if large outliers are particularly undesireable, this method will notify us of that type of error more quickly. \n",
    "\n",
    "### $$\\epsilon_{mse} = \\frac{1}{n}\\sum_{i=0}^n (y_i - \\hat{y_i})^2$$\n",
    "\n",
    "- __Root Mean Squared Error:__ The square root of Mean Squared Error. It's pretty hard to find any reading about when or or why to use this instead of just using MSE. \n",
    "\n",
    "### $$\\epsilon_{rmse} = \\sqrt{\\frac{1}{n}\\sum_{i=0}^n (y_i - \\hat{y_i})^2}$$\n",
    "\n",
    "- __$R^2$ AKA Coefficient of Determination:__ This is just the square of the correlation coefficient. In other words $R^2 = \\rho^2$. It can also be calculated with the following formula: \n",
    "\n",
    "### $$R^2 = \\frac{Var(X,Y)_{mean} - Var(X,Y)_{regression}}{Var(X,Y)_{mean}} = 1 - \\frac{\\sigma^2_{regression}}{\\sigma^2_{mean}} $$"
   ]
  },
  {
   "cell_type": "markdown",
   "metadata": {},
   "source": [
    "### The values for these error metrics can easily be calculated by Scikit-Learn:"
   ]
  },
  {
   "cell_type": "code",
   "execution_count": 29,
   "metadata": {},
   "outputs": [
    {
     "data": {
      "text/plain": [
       "0.7031965697808809"
      ]
     },
     "execution_count": 29,
     "metadata": {},
     "output_type": "execute_result"
    }
   ],
   "source": [
    "\n",
    "from IPython.utils import io\n",
    "with io.capture_output() as captured:\n",
    "    %run linear_regression_02.ipynb \n",
    "\n",
    "mae = metrics.mean_absolute_error(y_test, y_pred)\n",
    "mse = metrics.mean_squared_error(y_test, y_pred)\n",
    "rmse = np.sqrt(metrics.mean_squared_error(y_test, y_pred))\n",
    "r2 = metrics.r2_score(y_test, y_pred)\n",
    "\n",
    "r2"
   ]
  },
  {
   "cell_type": "markdown",
   "metadata": {},
   "source": [
    "Deciding what kind of error metric to use is application specific. If your data contains outl"
   ]
  }
 ],
 "metadata": {
  "kernelspec": {
   "display_name": "Python 3",
   "language": "python",
   "name": "python3"
  },
  "language_info": {
   "codemirror_mode": {
    "name": "ipython",
    "version": 3
   },
   "file_extension": ".py",
   "mimetype": "text/x-python",
   "name": "python",
   "nbconvert_exporter": "python",
   "pygments_lexer": "ipython3",
   "version": "3.8.0"
  }
 },
 "nbformat": 4,
 "nbformat_minor": 4
}
