{
 "cells": [
  {
   "cell_type": "code",
   "execution_count": 3,
   "metadata": {},
   "outputs": [],
   "source": [
    "import numpy as np\n",
    "from scipy.special import expit\n",
    "import matplotlib.pyplot as plt\n",
    "import seaborn as sns\n",
    "import pandas as pd\n",
    "from sklearn import model_selection, preprocessing\n",
    "from operator import add, sub\n",
    "\n",
    "sns.set_palette(sns.color_palette(\"Set1\", n_colors=8, desat=1))"
   ]
  },
  {
   "cell_type": "code",
   "execution_count": 29,
   "metadata": {},
   "outputs": [],
   "source": [
    "class NN(object):\n",
    "\n",
    "    def __init__(self, n_nodes):\n",
    "        self.n_nodes = n_nodes\n",
    "        self.n_layers = len(n_nodes)\n",
    "        self.weights, self.bias = self.init_weights()\n",
    "        \n",
    "    def train(self, X, y, lr, epochs=100, batch_size=1):\n",
    "        N = len(X)\n",
    "        errors = []\n",
    "        \n",
    "        for e in np.arange(epochs):\n",
    "            X, y = self.shuffle_data(X, y)\n",
    "            \n",
    "            X_batches = np.array(\n",
    "                [X[k:k + batch_size] \n",
    "                 for k in np.arange(0, N, batch_size)])\n",
    "            y_batches = np.array(\n",
    "                [y[k:k + batch_size] \n",
    "                 for k in np.arange(0, N, batch_size)])\n",
    "            \n",
    "            for xb, yb in zip(X_batches, y_batches):\n",
    "                self.update(xb, yb, lr)\n",
    "            \n",
    "            y_hat = self.feed_forward(X)\n",
    "            errors.append(self.cross_entropy_ave(y, y_hat))\n",
    "                \n",
    "        plt.title('Loss Curve')\n",
    "        plt.plot(errors)\n",
    "        plt.show()\n",
    "\n",
    "\n",
    "    # get final output of nn from input X based on current weights and biases\n",
    "    # Assumes X a numpy representation  of the data in wide format. \n",
    "    def feed_forward(self, X, train=False):\n",
    "        a = np.atleast_2d(X).T\n",
    "        N = len(self.n_nodes)\n",
    "        iters = np.arange(1, N)\n",
    "        activations = [a]\n",
    "        zs = []\n",
    "        for i, b, w in zip(iters, self.bias, self.weights): \n",
    "            a = self.activate_logistic(a, w, b)\n",
    "            if train:\n",
    "                activations.append(a)\n",
    "                zs.append(w @ activations[i - 1] + b)\n",
    "\n",
    "        if train:\n",
    "            return activations, zs\n",
    "        return a\n",
    "    \n",
    "    def back_prop(self, X, Y, debug=False):\n",
    "        del_w  = np.array([np.zeros(w.shape) for w in self.weights])\n",
    "        del_b  = np.array([np.zeros(b.shape) for b in self.bias])\n",
    "        \n",
    "        # feed forward: \n",
    "        A, Z = self.feed_forward(X, train=True)\n",
    "        \n",
    "        # get error heuristic of output layer:\n",
    "        delta_l = self.cost_derivative(Y, A[-1]) * self.sigmoid_prime(Z[-1])\n",
    "        del_w[-1] = delta_l @ A[-2].T \n",
    "        del_b[-1] = delta_l\n",
    "        \n",
    "        # back propagate: \n",
    "        for i in np.arange(2, len(self.n_nodes)):\n",
    "            sp = self.sigmoid_prime(Z[-i])\n",
    "            delta_l    = (self.weights[-i + 1].T @ delta_l) * sp\n",
    "            del_b[-i]  = delta_l\n",
    "            del_w[-i]  = delta_l @ A[-i - 1].T \n",
    "            \n",
    "        return del_w, del_b\n",
    "    \n",
    "    # helper functions --------------------\n",
    "    def update(self, X, Y, lr):\n",
    "        N = len(X)\n",
    "        nabla_b = np.array([np.zeros(b.shape) for b in self.bias])\n",
    "        nabla_w = np.array([np.zeros(w.shape) for w in self.weights])\n",
    "        \n",
    "        for x, y in zip(X, Y):\n",
    "            delta_dw, delta_db = self.back_prop(x, y)\n",
    "            nabla_w += delta_dw\n",
    "            nabla_b += delta_db\n",
    "        \n",
    "        self.weights -= lr*np.array(list(map(lambda x: x / N, nabla_w)))\n",
    "        self.bias    -= lr*np.array(list(map(lambda x: x / N, nabla_b)))\n",
    "            \n",
    "        \n",
    "    def activate_logistic(self, X, weights, bias):\n",
    "        return expit(weights @ X + bias)\n",
    "    \n",
    "    def activate_softmax(self, X, weights, bias):\n",
    "        Z = weights @ X + b\n",
    "        return np.exp(Z[i])/np.exp(Z).sum()\n",
    "    \n",
    "    def sigmoid_prime(self, X):\n",
    "        return expit(X) * (1 - expit(X))\n",
    "    \n",
    "    # cross entropy loss derivative wrt final activation layer\n",
    "    def cost_derivative(self, y, y_hat):\n",
    "        return (y_hat - y) / (1e7 + y_hat * (1 - y_hat))\n",
    "\n",
    "    def init_weights(self):\n",
    "        weights = np.array([np.random.randn(m, n) for m, n in zip(self.n_nodes[1:], self.n_nodes[:-1])])\n",
    "        bias = np.array([np.zeros(m).reshape(-1,1) for m in self.n_nodes[1:]])  \n",
    "        return weights, bias\n",
    "    \n",
    "    def shuffle_data(self, X, y):\n",
    "        N = len(X)\n",
    "        idx = np.arange(N)\n",
    "        np.random.shuffle(idx)\n",
    "        return X[idx], y[idx]\n",
    "    \n",
    "    def cross_entropy_ave(self, y, y_hat):\n",
    "        return (-y * np.log(y_hat) - (1 - y) * np.log(1 - y_hat)).mean()\n",
    "    \n",
    "    # ------------------------------------\n",
    "        "
   ]
  },
  {
   "cell_type": "code",
   "execution_count": 30,
   "metadata": {},
   "outputs": [],
   "source": [
    "np.random.seed(44)\n",
    "net = NN((3,2,1))"
   ]
  },
  {
   "cell_type": "code",
   "execution_count": 31,
   "metadata": {},
   "outputs": [
    {
     "data": {
      "text/html": [
       "<div>\n",
       "<style scoped>\n",
       "    .dataframe tbody tr th:only-of-type {\n",
       "        vertical-align: middle;\n",
       "    }\n",
       "\n",
       "    .dataframe tbody tr th {\n",
       "        vertical-align: top;\n",
       "    }\n",
       "\n",
       "    .dataframe thead th {\n",
       "        text-align: right;\n",
       "    }\n",
       "</style>\n",
       "<table border=\"1\" class=\"dataframe\">\n",
       "  <thead>\n",
       "    <tr style=\"text-align: right;\">\n",
       "      <th></th>\n",
       "      <th>admit</th>\n",
       "      <th>gre</th>\n",
       "      <th>gpa</th>\n",
       "      <th>rank</th>\n",
       "    </tr>\n",
       "  </thead>\n",
       "  <tbody>\n",
       "    <tr>\n",
       "      <th>0</th>\n",
       "      <td>0</td>\n",
       "      <td>380</td>\n",
       "      <td>3.61</td>\n",
       "      <td>3</td>\n",
       "    </tr>\n",
       "    <tr>\n",
       "      <th>1</th>\n",
       "      <td>1</td>\n",
       "      <td>660</td>\n",
       "      <td>3.67</td>\n",
       "      <td>3</td>\n",
       "    </tr>\n",
       "    <tr>\n",
       "      <th>2</th>\n",
       "      <td>1</td>\n",
       "      <td>800</td>\n",
       "      <td>4.00</td>\n",
       "      <td>1</td>\n",
       "    </tr>\n",
       "    <tr>\n",
       "      <th>3</th>\n",
       "      <td>1</td>\n",
       "      <td>640</td>\n",
       "      <td>3.19</td>\n",
       "      <td>4</td>\n",
       "    </tr>\n",
       "    <tr>\n",
       "      <th>4</th>\n",
       "      <td>0</td>\n",
       "      <td>520</td>\n",
       "      <td>2.93</td>\n",
       "      <td>4</td>\n",
       "    </tr>\n",
       "  </tbody>\n",
       "</table>\n",
       "</div>"
      ],
      "text/plain": [
       "   admit  gre   gpa  rank\n",
       "0      0  380  3.61     3\n",
       "1      1  660  3.67     3\n",
       "2      1  800  4.00     1\n",
       "3      1  640  3.19     4\n",
       "4      0  520  2.93     4"
      ]
     },
     "execution_count": 31,
     "metadata": {},
     "output_type": "execute_result"
    }
   ],
   "source": [
    "data = pd.read_csv('student_data.csv')\n",
    "data.head()"
   ]
  },
  {
   "cell_type": "code",
   "execution_count": 32,
   "metadata": {},
   "outputs": [
    {
     "data": {
      "text/plain": [
       "array([[0.        , 0.27586207, 0.77586207, 0.66666667],\n",
       "       [1.        , 0.75862069, 0.81034483, 0.66666667],\n",
       "       [1.        , 1.        , 1.        , 0.        ],\n",
       "       ...,\n",
       "       [0.        , 0.4137931 , 0.21264368, 0.33333333],\n",
       "       [0.        , 0.82758621, 0.79885057, 0.33333333],\n",
       "       [0.        , 0.65517241, 0.93678161, 0.66666667]])"
      ]
     },
     "execution_count": 32,
     "metadata": {},
     "output_type": "execute_result"
    }
   ],
   "source": [
    "data = preprocessing.minmax_scale(data, feature_range=(0,1))\n",
    "data"
   ]
  },
  {
   "cell_type": "code",
   "execution_count": 33,
   "metadata": {},
   "outputs": [],
   "source": [
    "X = data[:3, 1:]\n",
    "y = data[:3, 0]"
   ]
  },
  {
   "cell_type": "code",
   "execution_count": 34,
   "metadata": {},
   "outputs": [
    {
     "name": "stdout",
     "output_type": "stream",
     "text": [
      "[[-0.75061472  1.31635732  1.24614003]\n",
      " [-1.60491574 -1.46814368 -1.71507046]]\n",
      "[[1.85878369 0.08758798]]\n",
      "[[0.]\n",
      " [0.]]\n",
      "[[0.]]\n"
     ]
    },
    {
     "data": {
      "image/png": "[encoded data removed]",
      "text/plain": [
       "<Figure size 432x288 with 1 Axes>"
      ]
     },
     "metadata": {
      "needs_background": "light"
     },
     "output_type": "display_data"
    }
   ],
   "source": [
    "for w in net.weights:\n",
    "    print(w)\n",
    "for b in net.bias:\n",
    "    print(b)\n",
    "    \n",
    "net.train(X, y, 10000, 10, 1)"
   ]
  },
  {
   "cell_type": "code",
   "execution_count": 35,
   "metadata": {},
   "outputs": [
    {
     "name": "stdout",
     "output_type": "stream",
     "text": [
      "[[-0.75056033  1.31636348  1.2460931 ]\n",
      " [-1.60491561 -1.46814453 -1.71507164]]\n",
      "[[1.85861638 0.0875725 ]]\n",
      "[[-1.06201035e-05]\n",
      " [-1.25507438e-06]]\n",
      "[[-0.00016095]]\n"
     ]
    }
   ],
   "source": [
    "for w in net.weights:\n",
    "    print(w)\n",
    "for b in net.bias:\n",
    "    print(b)"
   ]
  },
  {
   "cell_type": "code",
   "execution_count": 172,
   "metadata": {},
   "outputs": [
    {
     "data": {
      "text/plain": [
       "array([[0.82680337, 0.81329256, 0.76658414]])"
      ]
     },
     "execution_count": 172,
     "metadata": {},
     "output_type": "execute_result"
    }
   ],
   "source": [
    "net.feed_forward(X)"
   ]
  },
  {
   "cell_type": "code",
   "execution_count": null,
   "metadata": {},
   "outputs": [],
   "source": []
  }
 ],
 "metadata": {
  "kernelspec": {
   "display_name": "Python 3",
   "language": "python",
   "name": "python3"
  },
  "language_info": {
   "codemirror_mode": {
    "name": "ipython",
    "version": 3
   },
   "file_extension": ".py",
   "mimetype": "text/x-python",
   "name": "python",
   "nbconvert_exporter": "python",
   "pygments_lexer": "ipython3",
   "version": "3.8.0"
  }
 },
 "nbformat": 4,
 "nbformat_minor": 4
}
