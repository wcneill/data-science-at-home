{
 "cells": [
  {
   "cell_type": "code",
   "execution_count": 1,
   "metadata": {},
   "outputs": [],
   "source": [
    "import numpy as np\n",
    "import matplotlib.pyplot as plt\n",
    "import seaborn as sns\n",
    "import pandas as pd\n",
    "import sklearn.preprocessing as pre\n",
    "from sklearn import model_selection\n",
    "\n",
    "sns.set_palette(sns.color_palette(\"Set1\", n_colors=8, desat=1))"
   ]
  },
  {
   "cell_type": "code",
   "execution_count": 185,
   "metadata": {},
   "outputs": [],
   "source": [
    "class NN(object):\n",
    "\n",
    "    def __init__(self, n_nodes):\n",
    "        self.n_nodes = n_nodes\n",
    "        self.weights, self.bias = self.init_weights()\n",
    "\n",
    "    # get final output of nn from input X based on current weights and biases\n",
    "    # Assumes X a numpy representation  of the data in wide format. \n",
    "    def feed_foward(self, X, train=False, debug=False):\n",
    "        N = len(self.n_nodes)\n",
    "        iters = np.arange(1, N)\n",
    "        activations = [X.T]\n",
    "        zs = []\n",
    "        for i, b, w in zip(iters, self.bias, self.weights):  \n",
    "            z = w @ activations[i - 1] + b\n",
    "            a = self.sigmoid(z)\n",
    "            activations.append(a)\n",
    "            zs.append(z)\n",
    "            if debug:\n",
    "                print(i)\n",
    "                print(w.shape, activations[i-1].shape, b.shape, z.shape)\n",
    "            \n",
    "        if train:\n",
    "            return activations, zs\n",
    "        return activations[-1]\n",
    "    \n",
    "    def back_prop(X, Y):\n",
    "        \n",
    "        # Perform feed forward \n",
    "        A, Z = feed_forward(X, train=True)\n",
    "        \n",
    "        # Compute output layer error:\n",
    "        \n",
    "\n",
    "    # helper functions --------------------\n",
    "    def sigmoid(self, X):\n",
    "        return 1 / (1 + np.exp(-X))\n",
    "\n",
    "    def probability(self, X, weights, bias):\n",
    "        return self.sigmoid(np.dot(X, weights) + bias)\n",
    "\n",
    "    def init_weights(self):\n",
    "        weights = [np.random.randn(m, n) for m, n in zip(self.n_nodes[1:], self.n_nodes[:-1])]\n",
    "        bias = [np.zeros(m).reshape(-1,1) for m in self.n_nodes[1:]]  \n",
    "        return weights, bias\n",
    "    # ------------------------------------\n",
    "        "
   ]
  },
  {
   "cell_type": "code",
   "execution_count": 203,
   "metadata": {},
   "outputs": [],
   "source": [
    "np.random.seed(44)\n",
    "net = NN((2, 3, 2))"
   ]
  },
  {
   "cell_type": "code",
   "execution_count": 204,
   "metadata": {},
   "outputs": [
    {
     "name": "stdout",
     "output_type": "stream",
     "text": [
      "w=\n",
      "[[-0.75061472  1.31635732]\n",
      " [ 1.24614003 -1.60491574]\n",
      " [-1.46814368 -1.71507046]]\n",
      "b=[[0.]\n",
      " [0.]\n",
      " [0.]]\n",
      " ---------------\n",
      "w=\n",
      "[[ 1.85878369  0.08758798 -0.0523222 ]\n",
      " [ 0.55547164 -0.96340369 -0.18032147]]\n",
      "b=[[0.]\n",
      " [0.]]\n",
      " ---------------\n"
     ]
    }
   ],
   "source": [
    "for w, b in zip(net.weights, net.bias):\n",
    "    print(f'w=\\n{w}')\n",
    "    print(f'b={b}\\n ---------------')"
   ]
  },
  {
   "cell_type": "code",
   "execution_count": 205,
   "metadata": {},
   "outputs": [
    {
     "data": {
      "text/plain": [
       "array([[0.81343161, 0.84795289],\n",
       "       [0.56201834, 0.60472459]])"
      ]
     },
     "execution_count": 205,
     "metadata": {},
     "output_type": "execute_result"
    }
   ],
   "source": [
    "x = np.arange(4).reshape(2,2)\n",
    "net.feed_foward(x)"
   ]
  },
  {
   "cell_type": "code",
   "execution_count": null,
   "metadata": {},
   "outputs": [],
   "source": []
  }
 ],
 "metadata": {
  "kernelspec": {
   "display_name": "Python 3",
   "language": "python",
   "name": "python3"
  },
  "language_info": {
   "codemirror_mode": {
    "name": "ipython",
    "version": 3
   },
   "file_extension": ".py",
   "mimetype": "text/x-python",
   "name": "python",
   "nbconvert_exporter": "python",
   "pygments_lexer": "ipython3",
   "version": "3.8.0"
  }
 },
 "nbformat": 4,
 "nbformat_minor": 4
}
