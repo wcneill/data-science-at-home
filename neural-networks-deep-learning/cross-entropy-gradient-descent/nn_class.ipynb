{
 "cells": [
  {
   "cell_type": "code",
   "execution_count": 191,
   "metadata": {},
   "outputs": [],
   "source": [
    "import numpy as np\n",
    "from scipy.special import expit\n",
    "import matplotlib.pyplot as plt\n",
    "import seaborn as sns\n",
    "import pandas as pd\n",
    "import sklearn.preprocessing as pre\n",
    "from sklearn import model_selection\n",
    "\n",
    "sns.set_palette(sns.color_palette(\"Set1\", n_colors=8, desat=1))"
   ]
  },
  {
   "cell_type": "code",
   "execution_count": 1510,
   "metadata": {},
   "outputs": [],
   "source": [
    "class NN(object):\n",
    "\n",
    "    def __init__(self, n_nodes):\n",
    "        self.n_nodes = n_nodes\n",
    "        self.n_layers = len(n_nodes)\n",
    "        self.weights, self.bias = self.init_weights()\n",
    "\n",
    "    # get final output of nn from input X based on current weights and biases\n",
    "    # Assumes X a numpy representation  of the data in wide format. \n",
    "    def feed_forward(self, X, train=False, debug=False):\n",
    "        x = np.atleast_2d(X).T\n",
    "        N = len(self.n_nodes)\n",
    "        iters = np.arange(1, N)\n",
    "        activations = [x]\n",
    "        zs = []\n",
    "        for i, b, w in zip(iters, self.bias, self.weights): \n",
    "            if debug:\n",
    "                print(i)\n",
    "                print(w.shape, activations[i-1].shape, b.shape)\n",
    "            a = self.activate_logistic(activations[i - 1], w, b)\n",
    "            activations.append(a)\n",
    "            zs.append(w @ activations[i - 1] + b)\n",
    "\n",
    "        if train:\n",
    "            return activations, zs\n",
    "        return activations[-1]\n",
    "    \n",
    "    def back_prop(self, X, Y, debug=False):\n",
    "        del_w  = [np.zeros(w.shape) for w in self.weights]\n",
    "        del_b  = [np.zeros(b.shape) for b in self.bias]\n",
    "        \n",
    "        # feed forward: \n",
    "        A, Z = self.feed_forward(X, train=True)\n",
    "        \n",
    "        # get error heuristic of output layer:\n",
    "        delta_l = self.cost_derivative(Y, A[-1]) * self.sigmoid_prime(Z[-1])\n",
    "        del_w[-1] = delta_l @ A[-2].T \n",
    "        del_b[-1] = delta_l\n",
    "        \n",
    "        # back propagate: \n",
    "        for i in np.arange(2, len(self.n_nodes)):\n",
    "            sp = self.sigmoid_prime(Z[-i])\n",
    "            delta_l    = (self.weights[-i + 1].T @ delta_l) * sp\n",
    "            del_b[-i]  = delta_l\n",
    "            del_w[-i]  = delta_l @ A[-i - 1].T \n",
    "            \n",
    "        return del_w, del_b\n",
    "    \n",
    "\n",
    "    \n",
    "    # helper functions --------------------\n",
    "    def update(self, X, y, lr):\n",
    "        del_w, del_b = self.back_prop(X, y)\n",
    "        print(f'del_w: \\n{del_w}')\n",
    "        print(f'del_b: \\n{del_b}')\n",
    "        for i in range(self.n_layers - 1):\n",
    "            self.weights[i] -= lr*del_w[i]\n",
    "            self.bias[i]    -= lr*del_b[i]\n",
    "            \n",
    "        \n",
    "    def activate_logistic(self, X, weights, bias):\n",
    "        return expit(weights @ X + bias)\n",
    "    \n",
    "    def activate_softmax(self, X, weights, bias):\n",
    "        Z = weights @ X + b\n",
    "        return np.exp(Z[i])/np.exp(Z).sum()\n",
    "    \n",
    "    def sigmoid_prime(self, X):\n",
    "        return expit(X) * (1 - expit(X))\n",
    "    \n",
    "    # cross entropy loss derivative wrt final activation layer\n",
    "    def cost_derivative(self, y, y_hat):\n",
    "        return (y_hat - y) / (1e7 + y_hat * (1 - y_hat))\n",
    "\n",
    "    def init_weights(self):\n",
    "        weights = [np.random.randn(m, n) for m, n in zip(self.n_nodes[1:], self.n_nodes[:-1])]\n",
    "        bias = [np.zeros(m).reshape(-1,1) for m in self.n_nodes[1:]]  \n",
    "        return weights, bias\n",
    "    # ------------------------------------\n",
    "        "
   ]
  },
  {
   "cell_type": "code",
   "execution_count": 1511,
   "metadata": {},
   "outputs": [],
   "source": [
    "np.random.seed(44)\n",
    "net = NN((3,2,1))"
   ]
  },
  {
   "cell_type": "code",
   "execution_count": 1512,
   "metadata": {},
   "outputs": [
    {
     "data": {
      "text/html": [
       "<div>\n",
       "<style scoped>\n",
       "    .dataframe tbody tr th:only-of-type {\n",
       "        vertical-align: middle;\n",
       "    }\n",
       "\n",
       "    .dataframe tbody tr th {\n",
       "        vertical-align: top;\n",
       "    }\n",
       "\n",
       "    .dataframe thead th {\n",
       "        text-align: right;\n",
       "    }\n",
       "</style>\n",
       "<table border=\"1\" class=\"dataframe\">\n",
       "  <thead>\n",
       "    <tr style=\"text-align: right;\">\n",
       "      <th></th>\n",
       "      <th>admit</th>\n",
       "      <th>gre</th>\n",
       "      <th>gpa</th>\n",
       "      <th>rank</th>\n",
       "    </tr>\n",
       "  </thead>\n",
       "  <tbody>\n",
       "    <tr>\n",
       "      <th>0</th>\n",
       "      <td>0</td>\n",
       "      <td>380</td>\n",
       "      <td>3.61</td>\n",
       "      <td>3</td>\n",
       "    </tr>\n",
       "    <tr>\n",
       "      <th>1</th>\n",
       "      <td>1</td>\n",
       "      <td>660</td>\n",
       "      <td>3.67</td>\n",
       "      <td>3</td>\n",
       "    </tr>\n",
       "    <tr>\n",
       "      <th>2</th>\n",
       "      <td>1</td>\n",
       "      <td>800</td>\n",
       "      <td>4.00</td>\n",
       "      <td>1</td>\n",
       "    </tr>\n",
       "    <tr>\n",
       "      <th>3</th>\n",
       "      <td>1</td>\n",
       "      <td>640</td>\n",
       "      <td>3.19</td>\n",
       "      <td>4</td>\n",
       "    </tr>\n",
       "    <tr>\n",
       "      <th>4</th>\n",
       "      <td>0</td>\n",
       "      <td>520</td>\n",
       "      <td>2.93</td>\n",
       "      <td>4</td>\n",
       "    </tr>\n",
       "  </tbody>\n",
       "</table>\n",
       "</div>"
      ],
      "text/plain": [
       "   admit  gre   gpa  rank\n",
       "0      0  380  3.61     3\n",
       "1      1  660  3.67     3\n",
       "2      1  800  4.00     1\n",
       "3      1  640  3.19     4\n",
       "4      0  520  2.93     4"
      ]
     },
     "execution_count": 1512,
     "metadata": {},
     "output_type": "execute_result"
    }
   ],
   "source": [
    "data = pd.read_csv('student_data.csv')\n",
    "data.head()"
   ]
  },
  {
   "cell_type": "code",
   "execution_count": 1513,
   "metadata": {},
   "outputs": [],
   "source": [
    "X = data[:3].drop('admit', axis=1).to_numpy()\n",
    "y = data[:3]['admit'].to_numpy()"
   ]
  },
  {
   "cell_type": "code",
   "execution_count": 1514,
   "metadata": {},
   "outputs": [],
   "source": [
    "x = np.atleast_2d(X[0])"
   ]
  },
  {
   "cell_type": "code",
   "execution_count": 1515,
   "metadata": {},
   "outputs": [
    {
     "data": {
      "text/plain": [
       "[array([[-0.75061472,  1.31635732,  1.24614003],\n",
       "        [-1.60491574, -1.46814368, -1.71507046]]),\n",
       " array([[1.85878369, 0.08758798]])]"
      ]
     },
     "execution_count": 1515,
     "metadata": {},
     "output_type": "execute_result"
    }
   ],
   "source": [
    "net.weights"
   ]
  },
  {
   "cell_type": "code",
   "execution_count": 1516,
   "metadata": {},
   "outputs": [
    {
     "data": {
      "text/plain": [
       "[array([[0.],\n",
       "        [0.]]),\n",
       " array([[0.]])]"
      ]
     },
     "execution_count": 1516,
     "metadata": {},
     "output_type": "execute_result"
    }
   ],
   "source": [
    "net.bias"
   ]
  },
  {
   "cell_type": "code",
   "execution_count": 1517,
   "metadata": {},
   "outputs": [
    {
     "name": "stdout",
     "output_type": "stream",
     "text": [
      "del_w: \n",
      "[array([[5.72679231e-126, 5.44045269e-128, 4.52115182e-128],\n",
      "       [1.66165887e-276, 1.57857592e-278, 1.31183595e-278]]), array([[8.10772450e-129, 4.99245065e-278]])]\n",
      "del_b: \n",
      "[array([[1.50705061e-128],\n",
      "       [4.37278649e-279]]), array([[1.24999997e-08]])]\n"
     ]
    }
   ],
   "source": [
    "net.update(x, y[0], 1)"
   ]
  },
  {
   "cell_type": "code",
   "execution_count": 1518,
   "metadata": {},
   "outputs": [
    {
     "data": {
      "text/plain": [
       "[array([[-0.75061472,  1.31635732,  1.24614003],\n",
       "        [-1.60491574, -1.46814368, -1.71507046]]),\n",
       " array([[1.85878369, 0.08758798]])]"
      ]
     },
     "execution_count": 1518,
     "metadata": {},
     "output_type": "execute_result"
    }
   ],
   "source": [
    "net.weights"
   ]
  },
  {
   "cell_type": "code",
   "execution_count": 1519,
   "metadata": {},
   "outputs": [
    {
     "data": {
      "text/plain": [
       "[array([[-1.50705061e-128],\n",
       "        [-4.37278649e-279]]),\n",
       " array([[-1.24999997e-08]])]"
      ]
     },
     "execution_count": 1519,
     "metadata": {},
     "output_type": "execute_result"
    }
   ],
   "source": [
    "net.bias"
   ]
  },
  {
   "cell_type": "code",
   "execution_count": null,
   "metadata": {},
   "outputs": [],
   "source": []
  }
 ],
 "metadata": {
  "kernelspec": {
   "display_name": "Python 3",
   "language": "python",
   "name": "python3"
  },
  "language_info": {
   "codemirror_mode": {
    "name": "ipython",
    "version": 3
   },
   "file_extension": ".py",
   "mimetype": "text/x-python",
   "name": "python",
   "nbconvert_exporter": "python",
   "pygments_lexer": "ipython3",
   "version": "3.8.0"
  }
 },
 "nbformat": 4,
 "nbformat_minor": 4
}
