{
 "cells": [
  {
   "cell_type": "code",
   "execution_count": 3,
   "metadata": {},
   "outputs": [],
   "source": [
    "import numpy as np\n",
    "import matplotlib.pyplot as plt\n",
    "import seaborn as sns\n",
    "import pandas as pd\n",
    "\n",
    "sns.set_palette(sns.color_palette(\"Set1\", n_colors=8, desat=.5))"
   ]
  },
  {
   "cell_type": "code",
   "execution_count": 34,
   "metadata": {},
   "outputs": [],
   "source": [
    "# Gradient descent required functions:\n",
    "# ------------------------------------\n",
    "def sigmoid(X): \n",
    "    return 1 / (1 + np.exp(-X))\n",
    "\n",
    "def probability(X, weights, bias):\n",
    "    return sigmoid(np.dot(X, weights) + bias)\n",
    "\n",
    "def cross_entropy_ave(y, y_hat):\n",
    "    return (-y * np.log(y_hat) - (1 - y) * np.log(1 - y_hat)).mean()\n",
    "\n",
    "# get average gradient of cross entropy loss at all data points in X\n",
    "def d_Error(X, y, weights, bias):\n",
    "    y_hat = probability(X, weights, bias)\n",
    "    d_E_matrix =  (X.T * (y - y_hat)).T  # each row is the loss of that sample\n",
    "    d_E_d_w = d_E_matrix.mean(axis=0)\n",
    "    d_E_d_b = (y - y_hat).mean() # gives scalar\n",
    "    d_E_d_z = np.append(d_E_matrix, d_E_d_b)\n",
    "#     print('x, y, y_hat:', X, y, y_hat)\n",
    "#     print('dE/dW:', d_E_matrix)\n",
    "#     print('dE/db:', d_E_d_b)\n",
    "#     print('dE/dz:', d_E_d_z)\n",
    "#     print('weights, b:', weights, bias)\n",
    "#     print('-------------------')\n",
    "    return d_E_d_z\n",
    "\n",
    "def update(X, y, weights, bias, lr):\n",
    "    dEdz = d_Error(X, y, weights, bias)\n",
    "    dEdw = dEdz[:-1]\n",
    "    dEdb = dEdz[-1]\n",
    "    print(weights.shape)\n",
    "    print(dEdw.shape)\n",
    "    weights += lr * dEdw\n",
    "    bias += lr * dEdb\n",
    "    return weights, bias"
   ]
  },
  {
   "cell_type": "code",
   "execution_count": 38,
   "metadata": {},
   "outputs": [],
   "source": [
    "np.random.seed(44)\n",
    "epochs = 100\n",
    "learnrate = 0.01\n",
    "\n",
    "# Train with gradient descent:\n",
    "def train(X, y, learn_rate, epochs, graph_lines=False):\n",
    "    \n",
    "    errors = []\n",
    "    last_loss = None\n",
    "    n_samples, n_features = X.shape\n",
    "    \n",
    "    weights = np.random.normal(scale=1 / n_features**.5, size=n_features)\n",
    "    bias = 0\n",
    "    \n",
    "    for e in range(epochs):\n",
    "        for x, y_i in zip(X, y):\n",
    "#             print(f'weights: {weights}, bias: {bias}')\n",
    "#             print(f'prediction: {probability(x, weights, bias)}')\n",
    "            weights, bias = update(x, y_i, weights, bias, learn_rate)\n",
    "\n",
    "        y_hat = probability(X, weights, bias)\n",
    "        loss = cross_entropy_ave(y, y_hat)\n",
    "        errors.append(loss)\n",
    "        if e % (epochs / 10) == 0:\n",
    "            print(f'------- EPOCH {e} -------')\n",
    "            if last_loss and last_loss < loss:\n",
    "                print(f'Train Loss: {loss}, LOSS INCREASING')\n",
    "            else:\n",
    "                print(f'Train Loss: {loss}')\n",
    "            last_loss = loss\n",
    "            predictions = y_hat > 0.5\n",
    "            accuracy = np.mean(predictions == y)\n",
    "            print(f'Accuracy: {accuracy}')\n",
    "        \n",
    "    plt.plot(errors)\n",
    "    \n",
    "# Plotting Functions: \n",
    "# ------------------------------------\n",
    "def plot_data(data):\n",
    "    sns.scatterplot(x=0, y=1, hue=2, data=data, legend=False)\n",
    "    \n",
    "def plot_lines(m, b, color= 'r--'):\n",
    "    plt.xlim(-0.05,1.05)\n",
    "    plt.ylim(-0.05,1.05)\n",
    "    x = np.arange(-10, 10, 0.1)\n",
    "    plt.plot(x, m*x+b)\n",
    "    \n",
    "    "
   ]
  },
  {
   "cell_type": "code",
   "execution_count": 39,
   "metadata": {},
   "outputs": [],
   "source": [
    "data = pd.read_csv('data.csv', header=None)\n",
    "X = data.iloc[:, :2].to_numpy()\n",
    "y = data.iloc[:,-1].to_numpy()"
   ]
  },
  {
   "cell_type": "code",
   "execution_count": 40,
   "metadata": {},
   "outputs": [
    {
     "name": "stdout",
     "output_type": "stream",
     "text": [
      "------- EPOCH 0 -------\n",
      "Train Loss: 0.7136804879750506\n",
      "Accuracy: 0.4\n",
      "------- EPOCH 10 -------\n",
      "Train Loss: 0.623451422708032\n",
      "Accuracy: 0.59\n",
      "------- EPOCH 20 -------\n",
      "Train Loss: 0.556233503883487\n",
      "Accuracy: 0.76\n",
      "------- EPOCH 30 -------\n",
      "Train Loss: 0.5032458115981486\n",
      "Accuracy: 0.84\n",
      "------- EPOCH 40 -------\n",
      "Train Loss: 0.46111054109243677\n",
      "Accuracy: 0.87\n",
      "------- EPOCH 50 -------\n",
      "Train Loss: 0.4270776370825209\n",
      "Accuracy: 0.91\n",
      "------- EPOCH 60 -------\n",
      "Train Loss: 0.399156616900068\n",
      "Accuracy: 0.92\n",
      "------- EPOCH 70 -------\n",
      "Train Loss: 0.3759123113311127\n",
      "Accuracy: 0.93\n",
      "------- EPOCH 80 -------\n",
      "Train Loss: 0.3563016876549604\n",
      "Accuracy: 0.94\n",
      "------- EPOCH 90 -------\n",
      "Train Loss: 0.33955722737093974\n",
      "Accuracy: 0.94\n"
     ]
    },
    {
     "data": {
      "image/png": "[encoded data removed]",
      "text/plain": [
       "<Figure size 432x288 with 1 Axes>"
      ]
     },
     "metadata": {
      "needs_background": "light"
     },
     "output_type": "display_data"
    }
   ],
   "source": [
    "train(X, y, learnrate, epochs)"
   ]
  },
  {
   "cell_type": "code",
   "execution_count": null,
   "metadata": {},
   "outputs": [],
   "source": []
  }
 ],
 "metadata": {
  "kernelspec": {
   "display_name": "Python 3",
   "language": "python",
   "name": "python3"
  },
  "language_info": {
   "codemirror_mode": {
    "name": "ipython",
    "version": 3
   },
   "file_extension": ".py",
   "mimetype": "text/x-python",
   "name": "python",
   "nbconvert_exporter": "python",
   "pygments_lexer": "ipython3",
   "version": "3.8.0"
  }
 },
 "nbformat": 4,
 "nbformat_minor": 4
}
