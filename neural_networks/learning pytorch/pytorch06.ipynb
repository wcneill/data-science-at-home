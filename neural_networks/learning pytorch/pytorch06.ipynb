{
 "cells": [
  {
   "cell_type": "markdown",
   "metadata": {},
   "source": [
    "# Moving From Digits to Fashion:\n",
    "This notebook will take techniques learned in the previous notebook and apply them to a slightly harder data set: MNIST Fashion."
   ]
  },
  {
   "cell_type": "code",
   "execution_count": 2,
   "metadata": {},
   "outputs": [],
   "source": [
    "import torch\n",
    "import torch.nn.functional as F\n",
    "from torch import nn, optim\n",
    "from torchvision import datasets, transforms\n",
    "import numpy as np\n",
    "\n",
    "from collections import OrderedDict\n",
    "\n",
    "import matplotlib.pyplot as plt\n",
    "import seaborn as sns\n",
    "\n",
    "sns.set_palette(sns.color_palette(\"Blues_d\", n_colors=10, desat=1))"
   ]
  },
  {
   "cell_type": "code",
   "execution_count": 3,
   "metadata": {},
   "outputs": [],
   "source": [
    "# Define a transform to normalize the data\n",
    "transform = transforms.Compose([transforms.ToTensor(),\n",
    "                                transforms.Normalize((0.5,), (0.5,))])\n",
    "\n",
    "# Download and load the training data\n",
    "trainset = datasets.FashionMNIST('~/.pytorch/F_MNIST_data/', download=True, train=True, transform=transform)\n",
    "trainloader = torch.utils.data.DataLoader(trainset, batch_size=64, shuffle=True)\n",
    "\n",
    "# Download and load the test data\n",
    "testset = datasets.FashionMNIST('~/.pytorch/F_MNIST_data/', download=True, train=False, transform=transform)\n",
    "testloader = torch.utils.data.DataLoader(testset, batch_size=64, shuffle=True)"
   ]
  },
  {
   "cell_type": "code",
   "execution_count": 4,
   "metadata": {},
   "outputs": [
    {
     "data": {
      "text/plain": [
       "<matplotlib.image.AxesImage at 0x1c4ca0d8340>"
      ]
     },
     "execution_count": 4,
     "metadata": {},
     "output_type": "execute_result"
    },
    {
     "data": {
      "image/png": "[encoded data removed]",
      "text/plain": [
       "<Figure size 432x288 with 1 Axes>"
      ]
     },
     "metadata": {
      "needs_background": "light"
     },
     "output_type": "display_data"
    }
   ],
   "source": [
    "# Load batch and take a look at a sample image:\n",
    "train_iter = iter(trainloader)\n",
    "images, labels = train_iter.next()\n",
    "\n",
    "image_0 = images[0].squeeze().numpy()\n",
    "plt.imshow(image_0, cmap=\"Greys_r\")"
   ]
  },
  {
   "cell_type": "code",
   "execution_count": 51,
   "metadata": {},
   "outputs": [],
   "source": [
    "class Network(nn.Sequential):\n",
    "    \n",
    "    def __init__(self, layers):\n",
    "        super().__init__(self.init_modules(layers))\n",
    "\n",
    "    def init_modules(self, layers):\n",
    "        \"\"\"\n",
    "        Define simple sequence of operations for feed forward based on desired\n",
    "        layer architecture. \n",
    "        \"\"\"\n",
    "        n_layers = len(layers)\n",
    "        modules = OrderedDict()\n",
    "\n",
    "        # Layer definitions for input and inner layers:\n",
    "        for i in range(n_layers - 2):\n",
    "            modules[f'fc{i}']   = nn.Linear(layers[i], layers[i+1])\n",
    "            modules[f'relu{i}'] = nn.ReLU()\n",
    "\n",
    "        # Definition for output layer:\n",
    "        modules['fc_out'] = nn.Linear(layers[-2], layers[-1])\n",
    "        modules['smax_out'] = nn.LogSoftmax(dim=1)\n",
    "        \n",
    "        return modules\n",
    "    \n",
    "    def train(self, trainloader, epochs, optimizer=optim.Adam, lr=0.003, criterion=nn.NLLLoss(), plot_loss=False):\n",
    "        opt = optimizer(self.parameters(), lr=lr)\n",
    "        epoch_error = []\n",
    "        for e in range(epochs):\n",
    "            running_loss = 0\n",
    "            for x, y in trainloader:\n",
    "                x = x.view(x.shape[0], -1)\n",
    "                opt.zero_grad()\n",
    "                loss = criterion(self(x), y)\n",
    "                loss.backward()\n",
    "                opt.step()\n",
    "                running_loss += loss.item()\n",
    "            epoch_error.append(running_loss/len(trainloader))\n",
    "        \n",
    "        if plot_loss:\n",
    "            plt.title('Training Loss')\n",
    "            plt.xlabel('Epochs')\n",
    "            plt.plot(epoch_error)   "
   ]
  },
  {
   "cell_type": "code",
   "execution_count": 52,
   "metadata": {},
   "outputs": [
    {
     "data": {
      "text/plain": [
       "Network(\n",
       "  (fc0): Linear(in_features=784, out_features=392, bias=True)\n",
       "  (relu0): ReLU()\n",
       "  (fc1): Linear(in_features=392, out_features=196, bias=True)\n",
       "  (relu1): ReLU()\n",
       "  (fc2): Linear(in_features=196, out_features=98, bias=True)\n",
       "  (relu2): ReLU()\n",
       "  (fc_out): Linear(in_features=98, out_features=10, bias=True)\n",
       "  (smax_out): LogSoftmax()\n",
       ")"
      ]
     },
     "execution_count": 52,
     "metadata": {},
     "output_type": "execute_result"
    }
   ],
   "source": [
    "# Define network architecture:\n",
    "layers = (784, 392, 196, 98, 10)\n",
    "model = Network(layers)\n",
    "model"
   ]
  },
  {
   "cell_type": "code",
   "execution_count": 53,
   "metadata": {},
   "outputs": [
    {
     "data": {
      "image/png": "[encoded data removed]",
      "text/plain": [
       "<Figure size 432x288 with 1 Axes>"
      ]
     },
     "metadata": {
      "needs_background": "light"
     },
     "output_type": "display_data"
    }
   ],
   "source": [
    "model.train(trainloader, 5, plot_loss=True)"
   ]
  },
  {
   "cell_type": "code",
   "execution_count": 54,
   "metadata": {},
   "outputs": [
    {
     "data": {
      "image/png": "[encoded data removed]",
      "text/plain": [
       "<Figure size 432x288 with 2 Axes>"
      ]
     },
     "metadata": {
      "needs_background": "light"
     },
     "output_type": "display_data"
    },
    {
     "data": {
      "image/png": "[encoded data removed]",
      "text/plain": [
       "<Figure size 432x288 with 2 Axes>"
      ]
     },
     "metadata": {
      "needs_background": "light"
     },
     "output_type": "display_data"
    },
    {
     "data": {
      "image/png": "[encoded data removed]",
      "text/plain": [
       "<Figure size 432x288 with 2 Axes>"
      ]
     },
     "metadata": {
      "needs_background": "light"
     },
     "output_type": "display_data"
    }
   ],
   "source": [
    "test_images, _ = iter(testloader).next()\n",
    " \n",
    "for img in test_images[0:3]:\n",
    "    fig, axes = plt.subplots(1, 2, gridspec_kw={'width_ratios':[1,2], 'height_ratios':[1]})\n",
    "    ps = torch.exp(model(img.view(1, -1)))\n",
    "    axes[0].imshow(img.numpy().squeeze(), cmap='Greys_r')\n",
    "    sns.barplot(x=np.arange(10), y=ps.detach().numpy().squeeze(), ax=axes[1])\n",
    "    plt.show()\n"
   ]
  }
 ],
 "metadata": {
  "kernelspec": {
   "display_name": "Python 3",
   "language": "python",
   "name": "python3"
  },
  "language_info": {
   "codemirror_mode": {
    "name": "ipython",
    "version": 3
   },
   "file_extension": ".py",
   "mimetype": "text/x-python",
   "name": "python",
   "nbconvert_exporter": "python",
   "pygments_lexer": "ipython3",
   "version": "3.8.0"
  }
 },
 "nbformat": 4,
 "nbformat_minor": 4
}
