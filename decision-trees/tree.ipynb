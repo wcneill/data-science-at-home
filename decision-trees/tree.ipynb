{
 "cells": [
  {
   "cell_type": "code",
   "execution_count": 5,
   "metadata": {},
   "outputs": [],
   "source": [
    "import numpy as np\n",
    "import pandas as pd\n",
    "import torch"
   ]
  },
  {
   "cell_type": "code",
   "execution_count": 42,
   "metadata": {},
   "outputs": [],
   "source": [
    "class DTreeRegressor(object):\n",
    "\n",
    "    def __init__(self, min_sample_split=0, max_depth=None, split_metric='mse'):\n",
    "        self.msp = min_sample_split\n",
    "        self.md = max_depth\n",
    "        self.sm = split_metric\n",
    "\n",
    "    def fit(self, x, y):\n",
    "        r, s = self.get_root(x, y)\n",
    "\n",
    "    def get_root(self, x, y, debug=True):\n",
    "        \n",
    "        best_score = np.infty\n",
    "        best_split = None\n",
    "        root = None\n",
    "        for i in np.arange(x.shape[1]):\n",
    "            v = x[:,i]\n",
    "            idx = np.argsort(v)\n",
    "            y_i = y[idx]\n",
    "            score, split = self.choose_split(v, y_i)\n",
    "            if score < best_score:\n",
    "                best_score = score\n",
    "                best_split = split\n",
    "                root = i\n",
    "        if debug:\n",
    "            print('Get Root Debug:')\n",
    "            print(f'root is feature {i}')\n",
    "            print(f'split root at index {best_split}')\n",
    "            print('End Debug: ----------------')\n",
    "        return root, best_split\n",
    "        \n",
    "\n",
    "    def choose_split(self, x, y, debug=True):\n",
    "        \n",
    "        best_score = np.infty\n",
    "        leftx = np.array([])\n",
    "        lefty = np.array([])\n",
    "        rightx = x\n",
    "        righty = y\n",
    "        lss = 0\n",
    "        rss = len(x)\n",
    "        \n",
    "        for i in np.arange(rss - 1):\n",
    "            lss += 1\n",
    "            rss -= 1\n",
    "            leftx = np.append(leftx, rightx[0])\n",
    "            lefty = np.append(lefty, righty[0])\n",
    "            rightx = rightx[1:]\n",
    "            righty = righty[1:]\n",
    "            lmean, rmean = self.get_means(lefty, righty)\n",
    "            score = self.score_split(lmean, rmean, lefty, righty, lss, rss)\n",
    "            if score < best_score:\n",
    "                best_score = score\n",
    "                bl = lss\n",
    "                br = rss\n",
    "        if debug:\n",
    "            print('Choose Split Debug:')\n",
    "            print(f'best score is {best_score}')\n",
    "            print(f'split at sample {bl}')\n",
    "            print('End Debug: ----------------')\n",
    "        return best_score, bl\n",
    "\n",
    "    \n",
    "    def get_means(self, y1, y2):\n",
    "        return (y1.mean(), y2.mean())\n",
    "\n",
    "    def error(self, mean, y):\n",
    "        return (1/len(y))*np.sum((y - mean)**2)\n",
    "\n",
    "    def score_split(self, lm, rm, ly, ry, ls, rs):\n",
    "        return ls*self.error(lm, ly) + rs*self.error(rm, ry)"
   ]
  },
  {
   "cell_type": "code",
   "execution_count": 43,
   "metadata": {},
   "outputs": [
    {
     "data": {
      "text/html": [
       "<div>\n",
       "<style scoped>\n",
       "    .dataframe tbody tr th:only-of-type {\n",
       "        vertical-align: middle;\n",
       "    }\n",
       "\n",
       "    .dataframe tbody tr th {\n",
       "        vertical-align: top;\n",
       "    }\n",
       "\n",
       "    .dataframe thead th {\n",
       "        text-align: right;\n",
       "    }\n",
       "</style>\n",
       "<table border=\"1\" class=\"dataframe\">\n",
       "  <thead>\n",
       "    <tr style=\"text-align: right;\">\n",
       "      <th></th>\n",
       "      <th>Size</th>\n",
       "      <th>Color</th>\n",
       "      <th>Cost</th>\n",
       "    </tr>\n",
       "  </thead>\n",
       "  <tbody>\n",
       "    <tr>\n",
       "      <th>0</th>\n",
       "      <td>7</td>\n",
       "      <td>red</td>\n",
       "      <td>22.4</td>\n",
       "    </tr>\n",
       "    <tr>\n",
       "      <th>1</th>\n",
       "      <td>3</td>\n",
       "      <td>blue</td>\n",
       "      <td>73.2</td>\n",
       "    </tr>\n",
       "    <tr>\n",
       "      <th>2</th>\n",
       "      <td>4</td>\n",
       "      <td>green</td>\n",
       "      <td>40.1</td>\n",
       "    </tr>\n",
       "    <tr>\n",
       "      <th>3</th>\n",
       "      <td>19</td>\n",
       "      <td>orange</td>\n",
       "      <td>55.6</td>\n",
       "    </tr>\n",
       "  </tbody>\n",
       "</table>\n",
       "</div>"
      ],
      "text/plain": [
       "   Size   Color  Cost\n",
       "0     7     red  22.4\n",
       "1     3    blue  73.2\n",
       "2     4   green  40.1\n",
       "3    19  orange  55.6"
      ]
     },
     "execution_count": 43,
     "metadata": {},
     "output_type": "execute_result"
    }
   ],
   "source": [
    "test = pd.DataFrame({'Size':[7,3,4,19],\n",
    "              'Color':['red', 'blue', 'green', 'orange'],\n",
    "              'Cost':[22.4, 73.2, 40.1, 55.6]})\n",
    "test"
   ]
  },
  {
   "cell_type": "code",
   "execution_count": 44,
   "metadata": {},
   "outputs": [
    {
     "name": "stdout",
     "output_type": "stream",
     "text": [
      "Choose Split Debug:\n",
      "best score is 551.9266666666667\n",
      "split at sample 1\n",
      "End Debug: ----------------\n",
      "Choose Split Debug:\n",
      "best score is 548.5400000000001\n",
      "split at sample 3\n",
      "End Debug: ----------------\n",
      "Get Root Debug:\n",
      "root is feature 1\n",
      "split root at index 3\n",
      "End Debug: ----------------\n"
     ]
    }
   ],
   "source": [
    "dtree = DTreeRegressor()\n",
    "x = test.drop(['Cost'], axis=1).to_numpy()\n",
    "y = test.Cost.to_numpy()\n",
    "dtree.fit(x, y)\n"
   ]
  },
  {
   "cell_type": "code",
   "execution_count": null,
   "metadata": {},
   "outputs": [],
   "source": []
  }
 ],
 "metadata": {
  "kernelspec": {
   "display_name": "Python 3",
   "language": "python",
   "name": "python3"
  },
  "language_info": {
   "codemirror_mode": {
    "name": "ipython",
    "version": 3
   },
   "file_extension": ".py",
   "mimetype": "text/x-python",
   "name": "python",
   "nbconvert_exporter": "python",
   "pygments_lexer": "ipython3",
   "version": "3.8.0"
  }
 },
 "nbformat": 4,
 "nbformat_minor": 4
}
